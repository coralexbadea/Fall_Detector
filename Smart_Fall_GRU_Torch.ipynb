{
  "cells": [
    {
      "cell_type": "code",
      "execution_count": 43,
      "metadata": {
        "ExecuteTime": {
          "end_time": "2020-07-28T10:27:46.173057Z",
          "start_time": "2020-07-28T10:27:45.616963Z"
        },
        "id": "BsSBaOvK9gaI"
      },
      "outputs": [],
      "source": [
        "import matplotlib.pyplot as plt\n",
        "import numpy as np\n",
        "import pandas as pd\n",
        "from tqdm import tqdm_notebook as tqdm\n",
        "import collections \n",
        "import time\n",
        "%matplotlib inline\n",
        "\n",
        "from sklearn.model_selection import train_test_split\n",
        "from sklearn.preprocessing import LabelEncoder\n",
        "\n",
        "import torch\n",
        "from torch import nn\n",
        "from torch.nn import functional as F\n",
        "from torch.utils.data import TensorDataset, DataLoader\n",
        "from torch.optim.lr_scheduler import _LRScheduler"
      ]
    },
    {
      "cell_type": "code",
      "source": [
        "from google.colab import drive\n",
        "drive.mount('/content/drive')"
      ],
      "metadata": {
        "id": "Ly_LokTY9ovl",
        "colab": {
          "base_uri": "https://localhost:8080/"
        },
        "outputId": "d640c4fd-1f84-44b1-dce7-8cd4e91e4251"
      },
      "execution_count": 44,
      "outputs": [
        {
          "output_type": "stream",
          "name": "stdout",
          "text": [
            "Drive already mounted at /content/drive; to attempt to forcibly remount, call drive.mount(\"/content/drive\", force_remount=True).\n"
          ]
        }
      ]
    },
    {
      "cell_type": "code",
      "execution_count": 45,
      "metadata": {
        "ExecuteTime": {
          "end_time": "2020-07-28T10:27:46.865374Z",
          "start_time": "2020-07-28T10:27:46.824337Z"
        },
        "id": "lWBKfSwh9gaJ",
        "outputId": "4a93ed9c-24c8-4785-cdaf-2be138a8bac5",
        "colab": {
          "base_uri": "https://localhost:8080/",
          "height": 36
        }
      },
      "outputs": [
        {
          "output_type": "execute_result",
          "data": {
            "text/plain": [
              "'cuda:0'"
            ],
            "application/vnd.google.colaboratory.intrinsic+json": {
              "type": "string"
            }
          },
          "metadata": {},
          "execution_count": 45
        }
      ],
      "source": [
        "np.random.seed(42)\n",
        "device = 'cuda:0' if torch.cuda.is_available() else 'cpu'\n",
        "device"
      ]
    },
    {
      "cell_type": "code",
      "execution_count": 46,
      "metadata": {
        "ExecuteTime": {
          "end_time": "2020-07-28T10:27:47.536122Z",
          "start_time": "2020-07-28T10:27:47.464966Z"
        },
        "id": "iMI1mBn39gaK"
      },
      "outputs": [],
      "source": [
        "data_dir = \"/content/drive/MyDrive/Hackathon/SmartFall_Dataset\"\n",
        "\n",
        "train = pd.read_csv('/content/drive/MyDrive/Hackathon/SmartFall_Dataset/SmartFall_Dataset/SmartFall Testing.csv')\n",
        "test = pd.read_csv('/content/drive/MyDrive/Hackathon/SmartFall_Dataset/SmartFall_Dataset/SmartFall Testing.csv')"
      ]
    },
    {
      "cell_type": "markdown",
      "metadata": {
        "id": "gGNmAHGY9gaK"
      },
      "source": [
        "## Preprecessing\n",
        "\n",
        "- sliding window size of 40\n",
        "- if data contains all fall samples(25 samples) then, label as 'FALL'\n",
        "- unless, it's all labelled as 'ADL'"
      ]
    },
    {
      "cell_type": "code",
      "execution_count": 47,
      "metadata": {
        "ExecuteTime": {
          "end_time": "2020-07-28T10:31:06.773038Z",
          "start_time": "2020-07-28T10:30:37.415715Z"
        },
        "id": "kZ7w7ryS9gaL",
        "outputId": "8d835335-b786-4137-c47e-ee683bb6bb2d",
        "colab": {
          "referenced_widgets": [
            "f6bd32fc5a8d4aaea0500002436564c3",
            "577f1f7516aa4d659b387acc2fc6c7c1",
            "99acad0fdace43ca9d1df4d9a44c87a8",
            "fe77783d344347babf8fd348d0f05a89",
            "fab556d148814b54ad040133246c2942",
            "68dda4292dbc4a99930b7d7dd0cc9f3b",
            "c28edae8476745e98655f926799324df",
            "104e48b22049437484fae5853c0ae6d7",
            "ff5a84c7ce004f85ab5a6c6b4288c9b1",
            "93e2d33bd2d94ebaa20b89c8fd46f07a",
            "d795c038926c44c9a554ea6e89f03c1c"
          ],
          "base_uri": "https://localhost:8080/",
          "height": 104
        }
      },
      "outputs": [
        {
          "output_type": "stream",
          "name": "stderr",
          "text": [
            "<ipython-input-47-1b6dcc12ad73>:4: TqdmDeprecationWarning: This function will be removed in tqdm==5.0.0\n",
            "Please use `tqdm.notebook.tqdm` instead of `tqdm.tqdm_notebook`\n",
            "  for i in tqdm(range(0, len(train)-40)):\n"
          ]
        },
        {
          "output_type": "display_data",
          "data": {
            "text/plain": [
              "  0%|          | 0/90985 [00:00<?, ?it/s]"
            ],
            "application/vnd.jupyter.widget-view+json": {
              "version_major": 2,
              "version_minor": 0,
              "model_id": "f6bd32fc5a8d4aaea0500002436564c3"
            }
          },
          "metadata": {}
        }
      ],
      "source": [
        "n = 40\n",
        "X_train, y_train = list(), list()\n",
        "\n",
        "for i in tqdm(range(0, len(train)-40)):\n",
        "    temp = list()\n",
        "    \n",
        "    temp.append(train[' ms_accelerometer_x'][i : i + n])\n",
        "    temp.append(train[' ms_accelerometer_y'][i : i + n])\n",
        "    temp.append(train[' ms_accelerometer_z'][i : i + n])\n",
        "    \n",
        "    cnt = collections.Counter(train['outcome'][i: i + n])\n",
        "    num_adl = cnt[0]\n",
        "    num_fall = cnt[1]\n",
        "    \n",
        "    if num_fall == 25:\n",
        "        y_train.append(1)\n",
        "    else:\n",
        "        y_train.append(0)\n",
        "    \n",
        "    X_train.append(temp)"
      ]
    },
    {
      "cell_type": "code",
      "execution_count": 48,
      "metadata": {
        "ExecuteTime": {
          "end_time": "2020-07-28T10:33:49.234112Z",
          "start_time": "2020-07-28T10:33:20.713591Z"
        },
        "id": "zPSSTBk19gaM",
        "outputId": "9b19ba70-afde-44ce-ac0c-28bdefc4103c",
        "colab": {
          "referenced_widgets": [
            "ee999620ff1f4afa80d4ccde5367f7f5",
            "0b8aaf12a93d470ca6d7f5e947c5cf77",
            "12077d0555144be3988e8d7fc69d721b",
            "996f802af37d49d8813527ccd5dd8c6a",
            "c92fdd0589b2405aad345d0be7653a8d",
            "3a96abc24ede47a4b3a07aa6135f662f",
            "1a130a319bbf46748da3bd3ee6adb91c",
            "8aa4ff88d3044767b46057357c2ea22a",
            "297bddd1afe040bd9db2c9c2b1e433e3",
            "4530ac60bd9f4a38b19fbf70e856718d",
            "6203f3e452254a8098ad6d6ac8cd0eec"
          ],
          "base_uri": "https://localhost:8080/",
          "height": 104
        }
      },
      "outputs": [
        {
          "output_type": "stream",
          "name": "stderr",
          "text": [
            "<ipython-input-48-dc245f191b2c>:3: TqdmDeprecationWarning: This function will be removed in tqdm==5.0.0\n",
            "Please use `tqdm.notebook.tqdm` instead of `tqdm.tqdm_notebook`\n",
            "  for i in tqdm(range(0, len(test) - 40)):\n"
          ]
        },
        {
          "output_type": "display_data",
          "data": {
            "text/plain": [
              "  0%|          | 0/90985 [00:00<?, ?it/s]"
            ],
            "application/vnd.jupyter.widget-view+json": {
              "version_major": 2,
              "version_minor": 0,
              "model_id": "ee999620ff1f4afa80d4ccde5367f7f5"
            }
          },
          "metadata": {}
        }
      ],
      "source": [
        "n = 40\n",
        "X_test_adl, X_test_fall, y_test_adl, y_test_fall = list(), list(), list(), list()\n",
        "for i in tqdm(range(0, len(test) - 40)):\n",
        "    temp = list()\n",
        "    \n",
        "    temp.append(test[' ms_accelerometer_x'][i : i + n])\n",
        "    temp.append(test[' ms_accelerometer_y'][i : i + n])\n",
        "    temp.append(test[' ms_accelerometer_z'][i : i + n])\n",
        "    \n",
        "    cnt = collections.Counter(test['outcome'][i : i + n])\n",
        "    num_adl = cnt[0]\n",
        "    num_fall = cnt[1]\n",
        "    \n",
        "    if num_fall == 25:\n",
        "        y_test_fall.append(1)\n",
        "        X_test_fall.append(temp)\n",
        "    else:\n",
        "        y_test_adl.append(0)\n",
        "        X_test_adl.append(temp)"
      ]
    },
    {
      "cell_type": "code",
      "execution_count": 49,
      "metadata": {
        "ExecuteTime": {
          "end_time": "2020-07-28T10:33:52.059775Z",
          "start_time": "2020-07-28T10:33:52.052917Z"
        },
        "id": "Cs8SVkny9gaM",
        "outputId": "ee71a1e1-2d89-4f2b-a752-861e43b1b4fb",
        "colab": {
          "base_uri": "https://localhost:8080/"
        }
      },
      "outputs": [
        {
          "output_type": "stream",
          "name": "stdout",
          "text": [
            "3216\n",
            "87769\n"
          ]
        }
      ],
      "source": [
        "print(len(y_test_fall))\n",
        "print(len(y_test_adl))"
      ]
    },
    {
      "cell_type": "code",
      "execution_count": 50,
      "metadata": {
        "ExecuteTime": {
          "end_time": "2020-07-28T10:34:15.323838Z",
          "start_time": "2020-07-28T10:34:15.078385Z"
        },
        "id": "z2DD3K7X9gaM"
      },
      "outputs": [],
      "source": [
        "# to keep the balance between ADL and FALL data, used only part of ADL data\n",
        "\n",
        "X_test_adl = X_test_adl[:3216]\n",
        "y_test_adl = y_test_adl[:3216]\n",
        "\n",
        "y_test = y_test_adl + y_test_fall\n",
        "X_test = X_test_adl + X_test_fall"
      ]
    },
    {
      "cell_type": "code",
      "execution_count": 53,
      "metadata": {
        "ExecuteTime": {
          "end_time": "2020-07-28T10:34:43.212536Z",
          "start_time": "2020-07-28T10:34:43.202680Z"
        },
        "id": "iV1Qz1GY9gaN",
        "outputId": "da7e0e54-b3e8-41f7-9319-d6e57a2d4f51",
        "colab": {
          "base_uri": "https://localhost:8080/"
        }
      },
      "outputs": [
        {
          "output_type": "stream",
          "name": "stdout",
          "text": [
            "length of test data 6432\n"
          ]
        }
      ],
      "source": [
        "print('length of test data', len(X_test))"
      ]
    },
    {
      "cell_type": "code",
      "execution_count": 54,
      "metadata": {
        "ExecuteTime": {
          "end_time": "2020-07-28T10:34:59.594029Z",
          "start_time": "2020-07-28T10:34:59.580077Z"
        },
        "id": "rhIHVSsd9gaN",
        "outputId": "cda2ebe3-6f55-4a26-ea0e-33bb1aa5d1f5",
        "colab": {
          "base_uri": "https://localhost:8080/"
        }
      },
      "outputs": [
        {
          "output_type": "stream",
          "name": "stdout",
          "text": [
            "train data adl and fall ratio\n",
            "--------------------------------\n",
            "train data adl ratio:  87769\n",
            "train data fall ratio:  3216\n",
            "--------------------------------\n",
            "test data adl ratio:  3216\n",
            "test data fall ratio:  3216\n"
          ]
        }
      ],
      "source": [
        "print('train data adl and fall ratio')\n",
        "print('--------------------------------')\n",
        "cnt_train = collections.Counter(y_train)\n",
        "print('train data adl ratio: ', cnt_train[0])\n",
        "print('train data fall ratio: ', cnt_train[1])\n",
        "print('--------------------------------')\n",
        "\n",
        "cnt_test = collections.Counter(y_test)\n",
        "print('test data adl ratio: ', cnt_test[0])\n",
        "print('test data fall ratio: ', cnt_test[1])"
      ]
    },
    {
      "cell_type": "markdown",
      "metadata": {
        "id": "POeiBp6A9gaN"
      },
      "source": [
        "## implementing cyclic learning rate\n",
        "\n",
        "- implementing a simple cosine scheduler "
      ]
    },
    {
      "cell_type": "code",
      "execution_count": 55,
      "metadata": {
        "ExecuteTime": {
          "end_time": "2020-07-28T10:39:52.765328Z",
          "start_time": "2020-07-28T10:39:52.744636Z"
        },
        "id": "M9WrSdxf9gaO"
      },
      "outputs": [],
      "source": [
        "class CyclicLR(_LRScheduler):\n",
        "    \n",
        "    def __init__(self, optimizer, schedule, last_epoch=-1):\n",
        "        assert callable(schedule)\n",
        "        self.schedule = schedule\n",
        "        super().__init__(optimizer, last_epoch)\n",
        "\n",
        "    def get_lr(self):\n",
        "        return [self.schedule(self.last_epoch, lr) for lr in self.base_lrs]"
      ]
    },
    {
      "cell_type": "code",
      "execution_count": 56,
      "metadata": {
        "ExecuteTime": {
          "end_time": "2020-07-28T10:39:53.481098Z",
          "start_time": "2020-07-28T10:39:53.469755Z"
        },
        "id": "5PP0re-39gaO"
      },
      "outputs": [],
      "source": [
        "def cosine(t_max, eta_min=0):\n",
        "    \n",
        "    def scheduler(epoch, base_lr):\n",
        "        t = epoch % t_max\n",
        "        return eta_min + (base_lr - eta_min)*(1 + np.cos(np.pi*t/t_max))/2\n",
        "    \n",
        "    return scheduler"
      ]
    },
    {
      "cell_type": "code",
      "execution_count": 57,
      "metadata": {
        "ExecuteTime": {
          "end_time": "2020-07-28T10:39:54.469197Z",
          "start_time": "2020-07-28T10:39:54.342062Z"
        },
        "id": "nIeMkGUk9gaO",
        "outputId": "a3fbea58-8bef-47fa-f9fe-6baeb9d4d8be",
        "colab": {
          "base_uri": "https://localhost:8080/",
          "height": 448
        }
      },
      "outputs": [
        {
          "output_type": "execute_result",
          "data": {
            "text/plain": [
              "[<matplotlib.lines.Line2D at 0x7f5d3930e5f0>]"
            ]
          },
          "metadata": {},
          "execution_count": 57
        },
        {
          "output_type": "display_data",
          "data": {
            "text/plain": [
              "<Figure size 640x480 with 1 Axes>"
            ],
            "image/png": "[encoded data removed]"
          },
          "metadata": {}
        }
      ],
      "source": [
        "n = 100\n",
        "sched = cosine(n)\n",
        "lrs = [sched(t, 1) for t in range(n * 4)]\n",
        "plt.plot(lrs)"
      ]
    },
    {
      "cell_type": "markdown",
      "metadata": {
        "id": "AIdUR5579gaO"
      },
      "source": [
        "## GRU model declaration \n"
      ]
    },
    {
      "cell_type": "code",
      "execution_count": 58,
      "metadata": {
        "ExecuteTime": {
          "end_time": "2020-07-28T10:39:59.476547Z",
          "start_time": "2020-07-28T10:39:59.453707Z"
        },
        "id": "PugTnmOy9gaO"
      },
      "outputs": [],
      "source": [
        "class GRUNet(nn.Module):\n",
        "    def __init__(self, input_dim, hidden_dim, output_dim, n_layers):\n",
        "        super(GRUNet, self).__init__()\n",
        "        self.hidden_dim = hidden_dim\n",
        "        self.n_layers = n_layers\n",
        "        \n",
        "        self.GRU = nn.GRU(input_size = input_dim,\n",
        "                          hidden_size = hidden_dim, \n",
        "                          num_layers = n_layers,\n",
        "                          batch_first=True)\n",
        "        self.fc = nn.Linear(hidden_dim, output_dim)\n",
        "        self.relu = nn.ReLU()\n",
        "        \n",
        "    def forward(self, x):\n",
        "        h0 = self.init_hidden(x)\n",
        "        out, hn = self.GRU(x, h0)\n",
        "        out = self.fc(self.relu(out[:, -1]))\n",
        "        return out\n",
        "    \n",
        "    def init_hidden(self, x):\n",
        "        h0 = torch.zeros(self.n_layers, x.size(0), self.hidden_dim)\n",
        "        return h0.cuda()"
      ]
    },
    {
      "cell_type": "markdown",
      "metadata": {
        "id": "H5Q-t36b9gaO"
      },
      "source": [
        "## Preparing datasets"
      ]
    },
    {
      "cell_type": "code",
      "execution_count": 59,
      "metadata": {
        "ExecuteTime": {
          "end_time": "2020-07-28T10:40:23.899605Z",
          "start_time": "2020-07-28T10:40:06.398708Z"
        },
        "id": "mpJyhlhD9gaP"
      },
      "outputs": [],
      "source": [
        "X_train = np.asarray(X_train).reshape(-1, 40, 3)\n",
        "y_train = np.asarray(y_train).reshape(-1, )\n",
        "\n",
        "X_test = np.asarray(X_test).reshape(-1, 40, 3)\n",
        "y_test = np.asarray(y_test).reshape(-1, )"
      ]
    },
    {
      "cell_type": "code",
      "execution_count": 60,
      "metadata": {
        "ExecuteTime": {
          "end_time": "2020-07-28T10:40:23.909096Z",
          "start_time": "2020-07-28T10:40:23.901300Z"
        },
        "id": "-9lRg4dY9gaP"
      },
      "outputs": [],
      "source": [
        "from sklearn.preprocessing import LabelEncoder\n",
        "enc = LabelEncoder()\n",
        "\n",
        "y_train = enc.fit_transform(y_train)\n",
        "y_test = enc.fit_transform(y_test)"
      ]
    },
    {
      "cell_type": "code",
      "execution_count": 61,
      "metadata": {
        "ExecuteTime": {
          "end_time": "2020-07-28T10:40:23.982434Z",
          "start_time": "2020-07-28T10:40:23.911036Z"
        },
        "id": "T6DRbPHt9gaP"
      },
      "outputs": [],
      "source": [
        "X_train, X_valid, y_train, y_valid = train_test_split(X_train, y_train, test_size=0.1)"
      ]
    },
    {
      "cell_type": "code",
      "execution_count": 62,
      "metadata": {
        "ExecuteTime": {
          "end_time": "2020-07-28T10:40:32.576125Z",
          "start_time": "2020-07-28T10:40:32.566613Z"
        },
        "id": "IqFEWTV69gaP"
      },
      "outputs": [],
      "source": [
        "batch_size = 1\n",
        "\n",
        "train_data = TensorDataset(torch.from_numpy(X_train), torch.from_numpy(y_train))\n",
        "train_loader = torch.utils.data.DataLoader(\n",
        "    train_data,\n",
        "    shuffle=True, batch_size=batch_size)\n",
        "\n",
        "valid_data = TensorDataset(torch.from_numpy(X_valid), torch.from_numpy(y_valid))\n",
        "valid_loader = torch.utils.data.DataLoader(\n",
        "    valid_data,\n",
        "    shuffle=True, batch_size=batch_size)\n",
        "\n",
        "test_data =TensorDataset(torch.from_numpy(X_test), torch.from_numpy(y_test))\n",
        "test_loader = torch.utils.data.DataLoader(\n",
        "    test_data,\n",
        "    shuffle=True, batch_size=batch_size)"
      ]
    },
    {
      "cell_type": "markdown",
      "metadata": {
        "id": "56vriT_-9gaP"
      },
      "source": [
        "## Model training"
      ]
    },
    {
      "cell_type": "code",
      "execution_count": 63,
      "metadata": {
        "ExecuteTime": {
          "end_time": "2020-07-28T10:48:41.930197Z",
          "start_time": "2020-07-28T10:48:41.898982Z"
        },
        "id": "nEAytbfS9gaP",
        "outputId": "c9cb67d7-42f8-439d-806b-5bcf44c146ed",
        "colab": {
          "base_uri": "https://localhost:8080/"
        }
      },
      "outputs": [
        {
          "output_type": "stream",
          "name": "stdout",
          "text": [
            "GRUNet(\n",
            "  (GRU): GRU(3, 256, num_layers=2, batch_first=True)\n",
            "  (fc): Linear(in_features=256, out_features=2, bias=True)\n",
            "  (relu): ReLU()\n",
            ")\n"
          ]
        }
      ],
      "source": [
        "input_dim = next(iter(train_loader))[0].shape[2]\n",
        "output_dim = 2\n",
        "n_layers = 2\n",
        "hidden_dim = 256\n",
        "\n",
        "lr = 0.0001\n",
        "n_epochs = 40\n",
        "iterations_per_epoch = len(train_loader)\n",
        "best_acc = 0.\n",
        "patience, trials = 15, 0\n",
        "\n",
        "model = GRUNet(input_dim, hidden_dim, output_dim, n_layers).cuda()\n",
        "print(model)\n",
        "criterion = nn.CrossEntropyLoss().cuda()\n",
        "optimizer = torch.optim.Adam(model.parameters(), lr=lr)\n",
        "sched = CyclicLR(optimizer, cosine(t_max=iterations_per_epoch * 2, eta_min = lr/10))\n",
        "epoch_times = []"
      ]
    },
    {
      "cell_type": "code",
      "execution_count": null,
      "metadata": {
        "ExecuteTime": {
          "end_time": "2020-07-28T10:54:37.562768Z",
          "start_time": "2020-07-28T10:48:42.417547Z"
        },
        "id": "MTTBt6bI9gaQ",
        "outputId": "557e4fb1-4537-49bb-c16d-ce4c251b8c6c",
        "colab": {
          "base_uri": "https://localhost:8080/"
        }
      },
      "outputs": [
        {
          "output_type": "stream",
          "name": "stdout",
          "text": [
            "Start model training\n",
            "Epoch 1 best model saved with accuracy: 99.23%\n",
            "Epoch 2 best model saved with accuracy: 99.49%\n",
            "Epoch 3 best model saved with accuracy: 99.51%\n",
            "Epoch 4 best model saved with accuracy: 99.55%\n",
            "Epoch:   5. Loss: 0.0469. Acc.: 99.51%\n",
            "Epoch 6 best model saved with accuracy: 99.60%\n",
            "Epoch 8 best model saved with accuracy: 99.63%\n",
            "Epoch:  10. Loss: 0.0000. Acc.: 99.64%\n",
            "Epoch 10 best model saved with accuracy: 99.64%\n",
            "Epoch 12 best model saved with accuracy: 99.67%\n",
            "Epoch 13 best model saved with accuracy: 99.69%\n",
            "Epoch:  15. Loss: 0.0000. Acc.: 99.55%\n",
            "Epoch 19 best model saved with accuracy: 99.71%\n",
            "Epoch:  20. Loss: 0.0000. Acc.: 99.73%\n",
            "Epoch 20 best model saved with accuracy: 99.73%\n",
            "Epoch 24 best model saved with accuracy: 99.74%\n",
            "Epoch:  25. Loss: 0.0000. Acc.: 99.62%\n"
          ]
        }
      ],
      "source": [
        "train_loss, train_acc = list(), list()\n",
        "print('Start model training')\n",
        "\n",
        "for epoch in range(1, n_epochs + 1):\n",
        "    start_time = time.process_time()\n",
        "    for i, (X_batch, y_batch) in enumerate(train_loader):\n",
        "        model.train()\n",
        "        X_batch = X_batch.float().cuda()\n",
        "        y_batch = y_batch.cuda()\n",
        "        optimizer.zero_grad()\n",
        "        out = model(X_batch)\n",
        "        loss = criterion(out, y_batch)\n",
        "        loss.backward()\n",
        "        optimizer.step()\n",
        "        sched.step()\n",
        "    current_time = time.process_time()\n",
        "    epoch_times.append(current_time-start_time)\n",
        "    \n",
        "    model.eval()\n",
        "    correct, total = 0, 0\n",
        "    for x_val, y_val in valid_loader:\n",
        "        x_val, y_val = [t.cuda() for t in (x_val.float(), y_val)]\n",
        "        out = model(x_val)\n",
        "        preds = F.log_softmax(out, dim=1).argmax(dim=1)\n",
        "        total += y_val.size(0)\n",
        "        correct += (preds == y_val).sum().item()\n",
        "        \n",
        "    acc = correct / total\n",
        "    \n",
        "    train_loss.append(loss.item())\n",
        "    train_acc.append(acc)\n",
        "    \n",
        "    if epoch % 5 == 0:\n",
        "        print(f'Epoch: {epoch:3d}. Loss: {loss.item():.4f}. Acc.: {acc:2.2%}')\n",
        "\n",
        "    if acc > best_acc:\n",
        "        trials = 0\n",
        "        best_acc = acc\n",
        "        torch.save(model.state_dict(), 'SmartFall_gru.pth')\n",
        "        print(f'Epoch {epoch} best model saved with accuracy: {best_acc:2.2%}')\n",
        "    else:\n",
        "        trials += 1\n",
        "        if trials >= patience:\n",
        "            print(f'Early stopping on epoch {epoch}')\n",
        "            break\n",
        "print(\"Total Training Time: {} seconds\".format(str(sum(epoch_times))))"
      ]
    },
    {
      "cell_type": "code",
      "execution_count": null,
      "metadata": {
        "ExecuteTime": {
          "end_time": "2020-07-28T10:54:37.682082Z",
          "start_time": "2020-07-28T10:54:37.564415Z"
        },
        "id": "HL0cGgEd9gaQ"
      },
      "outputs": [],
      "source": [
        "plt.figure(figsize=(10, 3))\n",
        "plt.suptitle('GRU Model', fontsize=20, y=1.1)\n",
        "plt.subplot(1, 2, 1)\n",
        "plt.plot(np.arange(len(train_loss)), train_loss)\n",
        "plt.yticks([0.0, 0.1, 0.2], fontsize=15)\n",
        "plt.xticks([0, 20, 40], fontsize=15)\n",
        "plt.title('Loss', fontsize=20)\n",
        "\n",
        "plt.subplot(1, 2, 2)\n",
        "plt.plot(np.arange(len(train_acc)), train_acc)\n",
        "plt.yticks([0.94, 0.97, 1.0], fontsize=15)\n",
        "plt.xticks([0, 20, 40], fontsize=15)\n",
        "plt.title('Accuracy',fontsize=20)\n",
        "plt.subplots_adjust(hspace=1)\n",
        "\n",
        "plt.show()"
      ]
    },
    {
      "cell_type": "code",
      "execution_count": null,
      "metadata": {
        "ExecuteTime": {
          "end_time": "2020-07-28T10:54:37.883189Z",
          "start_time": "2020-07-28T10:54:37.684430Z"
        },
        "id": "xI0SgD3B9gaQ"
      },
      "outputs": [],
      "source": [
        "# evaluation with test dataset\n",
        "from sklearn.metrics import classification_report, confusion_matrix, accuracy_score\n",
        "\n",
        "targets = list()\n",
        "preds = list()\n",
        "correct = 0\n",
        "model.load_state_dict(torch.load('SmartFall_gru.pth'))\n",
        "with torch.no_grad():\n",
        "    for X, y in test_loader:\n",
        "        X, y = X.cuda(), y.cuda()\n",
        "        output = model(X.float())\n",
        "        pred = output.max(1, keepdim=True)[1]\n",
        "        correct += pred.eq(y.view_as(pred)).sum().item()\n",
        "\n",
        "        targets += list(y.cpu().numpy())\n",
        "        preds += list(pred.cpu().numpy())\n",
        "\n",
        "test_acc = 100. * correct / len(test_loader.dataset)\n",
        "confusion_mtx = confusion_matrix(targets, preds)\n",
        "print(test_acc)\n",
        "print(confusion_mtx)"
      ]
    },
    {
      "cell_type": "code",
      "execution_count": null,
      "metadata": {
        "ExecuteTime": {
          "end_time": "2020-07-28T10:54:37.905583Z",
          "start_time": "2020-07-28T10:54:37.884854Z"
        },
        "id": "qdgOsXu49gaR"
      },
      "outputs": [],
      "source": [
        "print(classification_report(targets, preds))"
      ]
    },
    {
      "cell_type": "code",
      "execution_count": null,
      "metadata": {
        "ExecuteTime": {
          "end_time": "2020-07-28T10:54:37.955037Z",
          "start_time": "2020-07-28T10:54:37.907131Z"
        },
        "id": "GjWwr0om9gaR"
      },
      "outputs": [],
      "source": [
        "from sklearn.metrics import f1_score, precision_score, recall_score\n",
        "\n",
        "print(precision_score(targets, preds))\n",
        "print(recall_score(targets, preds))\n",
        "print(f1_score(targets, preds))"
      ]
    },
    {
      "cell_type": "code",
      "execution_count": null,
      "metadata": {
        "id": "tjoIMEpw9gaR"
      },
      "outputs": [],
      "source": []
    },
    {
      "cell_type": "code",
      "source": [
        "input_dim = 3\n",
        "output_dim = 2\n",
        "n_layers = 2\n",
        "hidden_dim = 256\n",
        "\n",
        "model = GRUNet(input_dim, hidden_dim, output_dim, n_layers)"
      ],
      "metadata": {
        "id": "WnFJJLywt7nU"
      },
      "execution_count": null,
      "outputs": []
    },
    {
      "cell_type": "code",
      "source": [
        "model.cuda()"
      ],
      "metadata": {
        "id": "sl-0Mna6wuip"
      },
      "execution_count": null,
      "outputs": []
    },
    {
      "cell_type": "code",
      "source": [
        "model.load_state_dict(torch.load('/content/SmartFall_gru.pth'))"
      ],
      "metadata": {
        "id": "iBX8t38dt8BG"
      },
      "execution_count": null,
      "outputs": []
    },
    {
      "cell_type": "code",
      "source": [
        "test_input = torch.Tensor([1,2,3]).repeat(40,1).unsqueeze(0)"
      ],
      "metadata": {
        "id": "qdnH4west9s7"
      },
      "execution_count": null,
      "outputs": []
    },
    {
      "cell_type": "code",
      "source": [
        "test_input.shape"
      ],
      "metadata": {
        "id": "bvk_gmF3t9vJ"
      },
      "execution_count": null,
      "outputs": []
    },
    {
      "cell_type": "code",
      "source": [
        "model(test_input.cuda())"
      ],
      "metadata": {
        "id": "8hsiafXouBe5"
      },
      "execution_count": null,
      "outputs": []
    },
    {
      "cell_type": "code",
      "source": [],
      "metadata": {
        "id": "QUDMgJHSwdej"
      },
      "execution_count": null,
      "outputs": []
    },
    {
      "cell_type": "code",
      "source": [
        "!pip install onnx"
      ],
      "metadata": {
        "id": "qhZgGvmXw0sN"
      },
      "execution_count": null,
      "outputs": []
    },
    {
      "cell_type": "code",
      "source": [
        "torch.onnx.export(\n",
        "    model,                  # PyTorch Model\n",
        "    test_input.cuda(),                    # Input tensor\n",
        "    'output_model.onnx',        # Output file (eg. 'output_model.onnx')\n",
        "    opset_version=12,       # Operator support version\n",
        "    input_names=['input'],  # Input tensor name (arbitary)\n",
        "    output_names=['output'] # Output tensor name (arbitary)\n",
        ")"
      ],
      "metadata": {
        "id": "-Ij9uif6w0um"
      },
      "execution_count": null,
      "outputs": []
    },
    {
      "cell_type": "code",
      "source": [],
      "metadata": {
        "id": "j3e_KVfpxXpr"
      },
      "execution_count": null,
      "outputs": []
    }
  ],
  "metadata": {
    "kernelspec": {
      "display_name": "Python 3",
      "language": "python",
      "name": "python3"
    },
    "language_info": {
      "codemirror_mode": {
        "name": "ipython",
        "version": 3
      },
      "file_extension": ".py",
      "mimetype": "text/x-python",
      "name": "python",
      "nbconvert_exporter": "python",
      "pygments_lexer": "ipython3",
      "version": "3.7.6"
    },
    "toc": {
      "base_numbering": 1,
      "nav_menu": {},
      "number_sections": false,
      "sideBar": true,
      "skip_h1_title": false,
      "title_cell": "Table of Contents",
      "title_sidebar": "Contents",
      "toc_cell": false,
      "toc_position": {},
      "toc_section_display": true,
      "toc_window_display": false
    },
    "colab": {
      "provenance": [],
      "machine_shape": "hm",
      "gpuType": "V100"
    },
    "accelerator": "GPU",
    "gpuClass": "standard",
    "widgets": {
      "application/vnd.jupyter.widget-state+json": {
        "f6bd32fc5a8d4aaea0500002436564c3": {
          "model_module": "@jupyter-widgets/controls",
          "model_name": "HBoxModel",
          "model_module_version": "1.5.0",
          "state": {
            "_dom_classes": [],
            "_model_module": "@jupyter-widgets/controls",
            "_model_module_version": "1.5.0",
            "_model_name": "HBoxModel",
            "_view_count": null,
            "_view_module": "@jupyter-widgets/controls",
            "_view_module_version": "1.5.0",
            "_view_name": "HBoxView",
            "box_style": "",
            "children": [
              "IPY_MODEL_577f1f7516aa4d659b387acc2fc6c7c1",
              "IPY_MODEL_99acad0fdace43ca9d1df4d9a44c87a8",
              "IPY_MODEL_fe77783d344347babf8fd348d0f05a89"
            ],
            "layout": "IPY_MODEL_fab556d148814b54ad040133246c2942"
          }
        },
        "577f1f7516aa4d659b387acc2fc6c7c1": {
          "model_module": "@jupyter-widgets/controls",
          "model_name": "HTMLModel",
          "model_module_version": "1.5.0",
          "state": {
            "_dom_classes": [],
            "_model_module": "@jupyter-widgets/controls",
            "_model_module_version": "1.5.0",
            "_model_name": "HTMLModel",
            "_view_count": null,
            "_view_module": "@jupyter-widgets/controls",
            "_view_module_version": "1.5.0",
            "_view_name": "HTMLView",
            "description": "",
            "description_tooltip": null,
            "layout": "IPY_MODEL_68dda4292dbc4a99930b7d7dd0cc9f3b",
            "placeholder": "​",
            "style": "IPY_MODEL_c28edae8476745e98655f926799324df",
            "value": "100%"
          }
        },
        "99acad0fdace43ca9d1df4d9a44c87a8": {
          "model_module": "@jupyter-widgets/controls",
          "model_name": "FloatProgressModel",
          "model_module_version": "1.5.0",
          "state": {
            "_dom_classes": [],
            "_model_module": "@jupyter-widgets/controls",
            "_model_module_version": "1.5.0",
            "_model_name": "FloatProgressModel",
            "_view_count": null,
            "_view_module": "@jupyter-widgets/controls",
            "_view_module_version": "1.5.0",
            "_view_name": "ProgressView",
            "bar_style": "success",
            "description": "",
            "description_tooltip": null,
            "layout": "IPY_MODEL_104e48b22049437484fae5853c0ae6d7",
            "max": 90985,
            "min": 0,
            "orientation": "horizontal",
            "style": "IPY_MODEL_ff5a84c7ce004f85ab5a6c6b4288c9b1",
            "value": 90985
          }
        },
        "fe77783d344347babf8fd348d0f05a89": {
          "model_module": "@jupyter-widgets/controls",
          "model_name": "HTMLModel",
          "model_module_version": "1.5.0",
          "state": {
            "_dom_classes": [],
            "_model_module": "@jupyter-widgets/controls",
            "_model_module_version": "1.5.0",
            "_model_name": "HTMLModel",
            "_view_count": null,
            "_view_module": "@jupyter-widgets/controls",
            "_view_module_version": "1.5.0",
            "_view_name": "HTMLView",
            "description": "",
            "description_tooltip": null,
            "layout": "IPY_MODEL_93e2d33bd2d94ebaa20b89c8fd46f07a",
            "placeholder": "​",
            "style": "IPY_MODEL_d795c038926c44c9a554ea6e89f03c1c",
            "value": " 90985/90985 [00:18&lt;00:00, 6203.49it/s]"
          }
        },
        "fab556d148814b54ad040133246c2942": {
          "model_module": "@jupyter-widgets/base",
          "model_name": "LayoutModel",
          "model_module_version": "1.2.0",
          "state": {
            "_model_module": "@jupyter-widgets/base",
            "_model_module_version": "1.2.0",
            "_model_name": "LayoutModel",
            "_view_count": null,
            "_view_module": "@jupyter-widgets/base",
            "_view_module_version": "1.2.0",
            "_view_name": "LayoutView",
            "align_content": null,
            "align_items": null,
            "align_self": null,
            "border": null,
            "bottom": null,
            "display": null,
            "flex": null,
            "flex_flow": null,
            "grid_area": null,
            "grid_auto_columns": null,
            "grid_auto_flow": null,
            "grid_auto_rows": null,
            "grid_column": null,
            "grid_gap": null,
            "grid_row": null,
            "grid_template_areas": null,
            "grid_template_columns": null,
            "grid_template_rows": null,
            "height": null,
            "justify_content": null,
            "justify_items": null,
            "left": null,
            "margin": null,
            "max_height": null,
            "max_width": null,
            "min_height": null,
            "min_width": null,
            "object_fit": null,
            "object_position": null,
            "order": null,
            "overflow": null,
            "overflow_x": null,
            "overflow_y": null,
            "padding": null,
            "right": null,
            "top": null,
            "visibility": null,
            "width": null
          }
        },
        "68dda4292dbc4a99930b7d7dd0cc9f3b": {
          "model_module": "@jupyter-widgets/base",
          "model_name": "LayoutModel",
          "model_module_version": "1.2.0",
          "state": {
            "_model_module": "@jupyter-widgets/base",
            "_model_module_version": "1.2.0",
            "_model_name": "LayoutModel",
            "_view_count": null,
            "_view_module": "@jupyter-widgets/base",
            "_view_module_version": "1.2.0",
            "_view_name": "LayoutView",
            "align_content": null,
            "align_items": null,
            "align_self": null,
            "border": null,
            "bottom": null,
            "display": null,
            "flex": null,
            "flex_flow": null,
            "grid_area": null,
            "grid_auto_columns": null,
            "grid_auto_flow": null,
            "grid_auto_rows": null,
            "grid_column": null,
            "grid_gap": null,
            "grid_row": null,
            "grid_template_areas": null,
            "grid_template_columns": null,
            "grid_template_rows": null,
            "height": null,
            "justify_content": null,
            "justify_items": null,
            "left": null,
            "margin": null,
            "max_height": null,
            "max_width": null,
            "min_height": null,
            "min_width": null,
            "object_fit": null,
            "object_position": null,
            "order": null,
            "overflow": null,
            "overflow_x": null,
            "overflow_y": null,
            "padding": null,
            "right": null,
            "top": null,
            "visibility": null,
            "width": null
          }
        },
        "c28edae8476745e98655f926799324df": {
          "model_module": "@jupyter-widgets/controls",
          "model_name": "DescriptionStyleModel",
          "model_module_version": "1.5.0",
          "state": {
            "_model_module": "@jupyter-widgets/controls",
            "_model_module_version": "1.5.0",
            "_model_name": "DescriptionStyleModel",
            "_view_count": null,
            "_view_module": "@jupyter-widgets/base",
            "_view_module_version": "1.2.0",
            "_view_name": "StyleView",
            "description_width": ""
          }
        },
        "104e48b22049437484fae5853c0ae6d7": {
          "model_module": "@jupyter-widgets/base",
          "model_name": "LayoutModel",
          "model_module_version": "1.2.0",
          "state": {
            "_model_module": "@jupyter-widgets/base",
            "_model_module_version": "1.2.0",
            "_model_name": "LayoutModel",
            "_view_count": null,
            "_view_module": "@jupyter-widgets/base",
            "_view_module_version": "1.2.0",
            "_view_name": "LayoutView",
            "align_content": null,
            "align_items": null,
            "align_self": null,
            "border": null,
            "bottom": null,
            "display": null,
            "flex": null,
            "flex_flow": null,
            "grid_area": null,
            "grid_auto_columns": null,
            "grid_auto_flow": null,
            "grid_auto_rows": null,
            "grid_column": null,
            "grid_gap": null,
            "grid_row": null,
            "grid_template_areas": null,
            "grid_template_columns": null,
            "grid_template_rows": null,
            "height": null,
            "justify_content": null,
            "justify_items": null,
            "left": null,
            "margin": null,
            "max_height": null,
            "max_width": null,
            "min_height": null,
            "min_width": null,
            "object_fit": null,
            "object_position": null,
            "order": null,
            "overflow": null,
            "overflow_x": null,
            "overflow_y": null,
            "padding": null,
            "right": null,
            "top": null,
            "visibility": null,
            "width": null
          }
        },
        "ff5a84c7ce004f85ab5a6c6b4288c9b1": {
          "model_module": "@jupyter-widgets/controls",
          "model_name": "ProgressStyleModel",
          "model_module_version": "1.5.0",
          "state": {
            "_model_module": "@jupyter-widgets/controls",
            "_model_module_version": "1.5.0",
            "_model_name": "ProgressStyleModel",
            "_view_count": null,
            "_view_module": "@jupyter-widgets/base",
            "_view_module_version": "1.2.0",
            "_view_name": "StyleView",
            "bar_color": null,
            "description_width": ""
          }
        },
        "93e2d33bd2d94ebaa20b89c8fd46f07a": {
          "model_module": "@jupyter-widgets/base",
          "model_name": "LayoutModel",
          "model_module_version": "1.2.0",
          "state": {
            "_model_module": "@jupyter-widgets/base",
            "_model_module_version": "1.2.0",
            "_model_name": "LayoutModel",
            "_view_count": null,
            "_view_module": "@jupyter-widgets/base",
            "_view_module_version": "1.2.0",
            "_view_name": "LayoutView",
            "align_content": null,
            "align_items": null,
            "align_self": null,
            "border": null,
            "bottom": null,
            "display": null,
            "flex": null,
            "flex_flow": null,
            "grid_area": null,
            "grid_auto_columns": null,
            "grid_auto_flow": null,
            "grid_auto_rows": null,
            "grid_column": null,
            "grid_gap": null,
            "grid_row": null,
            "grid_template_areas": null,
            "grid_template_columns": null,
            "grid_template_rows": null,
            "height": null,
            "justify_content": null,
            "justify_items": null,
            "left": null,
            "margin": null,
            "max_height": null,
            "max_width": null,
            "min_height": null,
            "min_width": null,
            "object_fit": null,
            "object_position": null,
            "order": null,
            "overflow": null,
            "overflow_x": null,
            "overflow_y": null,
            "padding": null,
            "right": null,
            "top": null,
            "visibility": null,
            "width": null
          }
        },
        "d795c038926c44c9a554ea6e89f03c1c": {
          "model_module": "@jupyter-widgets/controls",
          "model_name": "DescriptionStyleModel",
          "model_module_version": "1.5.0",
          "state": {
            "_model_module": "@jupyter-widgets/controls",
            "_model_module_version": "1.5.0",
            "_model_name": "DescriptionStyleModel",
            "_view_count": null,
            "_view_module": "@jupyter-widgets/base",
            "_view_module_version": "1.2.0",
            "_view_name": "StyleView",
            "description_width": ""
          }
        },
        "ee999620ff1f4afa80d4ccde5367f7f5": {
          "model_module": "@jupyter-widgets/controls",
          "model_name": "HBoxModel",
          "model_module_version": "1.5.0",
          "state": {
            "_dom_classes": [],
            "_model_module": "@jupyter-widgets/controls",
            "_model_module_version": "1.5.0",
            "_model_name": "HBoxModel",
            "_view_count": null,
            "_view_module": "@jupyter-widgets/controls",
            "_view_module_version": "1.5.0",
            "_view_name": "HBoxView",
            "box_style": "",
            "children": [
              "IPY_MODEL_0b8aaf12a93d470ca6d7f5e947c5cf77",
              "IPY_MODEL_12077d0555144be3988e8d7fc69d721b",
              "IPY_MODEL_996f802af37d49d8813527ccd5dd8c6a"
            ],
            "layout": "IPY_MODEL_c92fdd0589b2405aad345d0be7653a8d"
          }
        },
        "0b8aaf12a93d470ca6d7f5e947c5cf77": {
          "model_module": "@jupyter-widgets/controls",
          "model_name": "HTMLModel",
          "model_module_version": "1.5.0",
          "state": {
            "_dom_classes": [],
            "_model_module": "@jupyter-widgets/controls",
            "_model_module_version": "1.5.0",
            "_model_name": "HTMLModel",
            "_view_count": null,
            "_view_module": "@jupyter-widgets/controls",
            "_view_module_version": "1.5.0",
            "_view_name": "HTMLView",
            "description": "",
            "description_tooltip": null,
            "layout": "IPY_MODEL_3a96abc24ede47a4b3a07aa6135f662f",
            "placeholder": "​",
            "style": "IPY_MODEL_1a130a319bbf46748da3bd3ee6adb91c",
            "value": "100%"
          }
        },
        "12077d0555144be3988e8d7fc69d721b": {
          "model_module": "@jupyter-widgets/controls",
          "model_name": "FloatProgressModel",
          "model_module_version": "1.5.0",
          "state": {
            "_dom_classes": [],
            "_model_module": "@jupyter-widgets/controls",
            "_model_module_version": "1.5.0",
            "_model_name": "FloatProgressModel",
            "_view_count": null,
            "_view_module": "@jupyter-widgets/controls",
            "_view_module_version": "1.5.0",
            "_view_name": "ProgressView",
            "bar_style": "success",
            "description": "",
            "description_tooltip": null,
            "layout": "IPY_MODEL_8aa4ff88d3044767b46057357c2ea22a",
            "max": 90985,
            "min": 0,
            "orientation": "horizontal",
            "style": "IPY_MODEL_297bddd1afe040bd9db2c9c2b1e433e3",
            "value": 90985
          }
        },
        "996f802af37d49d8813527ccd5dd8c6a": {
          "model_module": "@jupyter-widgets/controls",
          "model_name": "HTMLModel",
          "model_module_version": "1.5.0",
          "state": {
            "_dom_classes": [],
            "_model_module": "@jupyter-widgets/controls",
            "_model_module_version": "1.5.0",
            "_model_name": "HTMLModel",
            "_view_count": null,
            "_view_module": "@jupyter-widgets/controls",
            "_view_module_version": "1.5.0",
            "_view_name": "HTMLView",
            "description": "",
            "description_tooltip": null,
            "layout": "IPY_MODEL_4530ac60bd9f4a38b19fbf70e856718d",
            "placeholder": "​",
            "style": "IPY_MODEL_6203f3e452254a8098ad6d6ac8cd0eec",
            "value": " 90985/90985 [00:18&lt;00:00, 6214.82it/s]"
          }
        },
        "c92fdd0589b2405aad345d0be7653a8d": {
          "model_module": "@jupyter-widgets/base",
          "model_name": "LayoutModel",
          "model_module_version": "1.2.0",
          "state": {
            "_model_module": "@jupyter-widgets/base",
            "_model_module_version": "1.2.0",
            "_model_name": "LayoutModel",
            "_view_count": null,
            "_view_module": "@jupyter-widgets/base",
            "_view_module_version": "1.2.0",
            "_view_name": "LayoutView",
            "align_content": null,
            "align_items": null,
            "align_self": null,
            "border": null,
            "bottom": null,
            "display": null,
            "flex": null,
            "flex_flow": null,
            "grid_area": null,
            "grid_auto_columns": null,
            "grid_auto_flow": null,
            "grid_auto_rows": null,
            "grid_column": null,
            "grid_gap": null,
            "grid_row": null,
            "grid_template_areas": null,
            "grid_template_columns": null,
            "grid_template_rows": null,
            "height": null,
            "justify_content": null,
            "justify_items": null,
            "left": null,
            "margin": null,
            "max_height": null,
            "max_width": null,
            "min_height": null,
            "min_width": null,
            "object_fit": null,
            "object_position": null,
            "order": null,
            "overflow": null,
            "overflow_x": null,
            "overflow_y": null,
            "padding": null,
            "right": null,
            "top": null,
            "visibility": null,
            "width": null
          }
        },
        "3a96abc24ede47a4b3a07aa6135f662f": {
          "model_module": "@jupyter-widgets/base",
          "model_name": "LayoutModel",
          "model_module_version": "1.2.0",
          "state": {
            "_model_module": "@jupyter-widgets/base",
            "_model_module_version": "1.2.0",
            "_model_name": "LayoutModel",
            "_view_count": null,
            "_view_module": "@jupyter-widgets/base",
            "_view_module_version": "1.2.0",
            "_view_name": "LayoutView",
            "align_content": null,
            "align_items": null,
            "align_self": null,
            "border": null,
            "bottom": null,
            "display": null,
            "flex": null,
            "flex_flow": null,
            "grid_area": null,
            "grid_auto_columns": null,
            "grid_auto_flow": null,
            "grid_auto_rows": null,
            "grid_column": null,
            "grid_gap": null,
            "grid_row": null,
            "grid_template_areas": null,
            "grid_template_columns": null,
            "grid_template_rows": null,
            "height": null,
            "justify_content": null,
            "justify_items": null,
            "left": null,
            "margin": null,
            "max_height": null,
            "max_width": null,
            "min_height": null,
            "min_width": null,
            "object_fit": null,
            "object_position": null,
            "order": null,
            "overflow": null,
            "overflow_x": null,
            "overflow_y": null,
            "padding": null,
            "right": null,
            "top": null,
            "visibility": null,
            "width": null
          }
        },
        "1a130a319bbf46748da3bd3ee6adb91c": {
          "model_module": "@jupyter-widgets/controls",
          "model_name": "DescriptionStyleModel",
          "model_module_version": "1.5.0",
          "state": {
            "_model_module": "@jupyter-widgets/controls",
            "_model_module_version": "1.5.0",
            "_model_name": "DescriptionStyleModel",
            "_view_count": null,
            "_view_module": "@jupyter-widgets/base",
            "_view_module_version": "1.2.0",
            "_view_name": "StyleView",
            "description_width": ""
          }
        },
        "8aa4ff88d3044767b46057357c2ea22a": {
          "model_module": "@jupyter-widgets/base",
          "model_name": "LayoutModel",
          "model_module_version": "1.2.0",
          "state": {
            "_model_module": "@jupyter-widgets/base",
            "_model_module_version": "1.2.0",
            "_model_name": "LayoutModel",
            "_view_count": null,
            "_view_module": "@jupyter-widgets/base",
            "_view_module_version": "1.2.0",
            "_view_name": "LayoutView",
            "align_content": null,
            "align_items": null,
            "align_self": null,
            "border": null,
            "bottom": null,
            "display": null,
            "flex": null,
            "flex_flow": null,
            "grid_area": null,
            "grid_auto_columns": null,
            "grid_auto_flow": null,
            "grid_auto_rows": null,
            "grid_column": null,
            "grid_gap": null,
            "grid_row": null,
            "grid_template_areas": null,
            "grid_template_columns": null,
            "grid_template_rows": null,
            "height": null,
            "justify_content": null,
            "justify_items": null,
            "left": null,
            "margin": null,
            "max_height": null,
            "max_width": null,
            "min_height": null,
            "min_width": null,
            "object_fit": null,
            "object_position": null,
            "order": null,
            "overflow": null,
            "overflow_x": null,
            "overflow_y": null,
            "padding": null,
            "right": null,
            "top": null,
            "visibility": null,
            "width": null
          }
        },
        "297bddd1afe040bd9db2c9c2b1e433e3": {
          "model_module": "@jupyter-widgets/controls",
          "model_name": "ProgressStyleModel",
          "model_module_version": "1.5.0",
          "state": {
            "_model_module": "@jupyter-widgets/controls",
            "_model_module_version": "1.5.0",
            "_model_name": "ProgressStyleModel",
            "_view_count": null,
            "_view_module": "@jupyter-widgets/base",
            "_view_module_version": "1.2.0",
            "_view_name": "StyleView",
            "bar_color": null,
            "description_width": ""
          }
        },
        "4530ac60bd9f4a38b19fbf70e856718d": {
          "model_module": "@jupyter-widgets/base",
          "model_name": "LayoutModel",
          "model_module_version": "1.2.0",
          "state": {
            "_model_module": "@jupyter-widgets/base",
            "_model_module_version": "1.2.0",
            "_model_name": "LayoutModel",
            "_view_count": null,
            "_view_module": "@jupyter-widgets/base",
            "_view_module_version": "1.2.0",
            "_view_name": "LayoutView",
            "align_content": null,
            "align_items": null,
            "align_self": null,
            "border": null,
            "bottom": null,
            "display": null,
            "flex": null,
            "flex_flow": null,
            "grid_area": null,
            "grid_auto_columns": null,
            "grid_auto_flow": null,
            "grid_auto_rows": null,
            "grid_column": null,
            "grid_gap": null,
            "grid_row": null,
            "grid_template_areas": null,
            "grid_template_columns": null,
            "grid_template_rows": null,
            "height": null,
            "justify_content": null,
            "justify_items": null,
            "left": null,
            "margin": null,
            "max_height": null,
            "max_width": null,
            "min_height": null,
            "min_width": null,
            "object_fit": null,
            "object_position": null,
            "order": null,
            "overflow": null,
            "overflow_x": null,
            "overflow_y": null,
            "padding": null,
            "right": null,
            "top": null,
            "visibility": null,
            "width": null
          }
        },
        "6203f3e452254a8098ad6d6ac8cd0eec": {
          "model_module": "@jupyter-widgets/controls",
          "model_name": "DescriptionStyleModel",
          "model_module_version": "1.5.0",
          "state": {
            "_model_module": "@jupyter-widgets/controls",
            "_model_module_version": "1.5.0",
            "_model_name": "DescriptionStyleModel",
            "_view_count": null,
            "_view_module": "@jupyter-widgets/base",
            "_view_module_version": "1.2.0",
            "_view_name": "StyleView",
            "description_width": ""
          }
        }
      }
    }
  },
  "nbformat": 4,
  "nbformat_minor": 0
}